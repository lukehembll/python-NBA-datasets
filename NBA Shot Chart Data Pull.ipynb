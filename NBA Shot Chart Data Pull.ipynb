{
 "cells": [
  {
   "cell_type": "code",
   "execution_count": 1,
   "id": "0c0d5320",
   "metadata": {},
   "outputs": [],
   "source": [
    "## Pulling data from NBA website using nba_api package from swar"
   ]
  },
  {
   "cell_type": "code",
   "execution_count": 1,
   "id": "d91b0f63",
   "metadata": {},
   "outputs": [
    {
     "name": "stdout",
     "output_type": "stream",
     "text": [
      "Requirement already satisfied: nba_api in /opt/anaconda3/lib/python3.9/site-packages (1.1.11)\n",
      "Requirement already satisfied: requests in /opt/anaconda3/lib/python3.9/site-packages (from nba_api) (2.27.1)\n",
      "Requirement already satisfied: certifi>=2017.4.17 in /opt/anaconda3/lib/python3.9/site-packages (from requests->nba_api) (2021.10.8)\n",
      "Requirement already satisfied: urllib3<1.27,>=1.21.1 in /opt/anaconda3/lib/python3.9/site-packages (from requests->nba_api) (1.26.9)\n",
      "Requirement already satisfied: charset-normalizer~=2.0.0 in /opt/anaconda3/lib/python3.9/site-packages (from requests->nba_api) (2.0.4)\n",
      "Requirement already satisfied: idna<4,>=2.5 in /opt/anaconda3/lib/python3.9/site-packages (from requests->nba_api) (3.3)\n",
      "Note: you may need to restart the kernel to use updated packages.\n"
     ]
    }
   ],
   "source": [
    "pip install nba_api"
   ]
  },
  {
   "cell_type": "code",
   "execution_count": 17,
   "id": "728bcac3",
   "metadata": {},
   "outputs": [],
   "source": [
    "import pandas as pd\n",
    "import json\n"
   ]
  },
  {
   "cell_type": "code",
   "execution_count": null,
   "id": "a6f3afa8",
   "metadata": {},
   "outputs": [],
   "source": [
    "## "
   ]
  },
  {
   "cell_type": "code",
   "execution_count": 18,
   "id": "f7103b1e",
   "metadata": {},
   "outputs": [],
   "source": [
    "from nba_api.stats.endpoints import shotchartdetail\n",
    "\n",
    "response = shotchartdetail.ShotChartDetail(\n",
    "    context_measure_simple='FGA',\n",
    "    team_id=0,\n",
    "    player_id=0,\n",
    "    season_nullable='2021-22',\n",
    "    season_type_all_star='Regular Season'\n",
    ")\n",
    "\n",
    "content = json.loads(response.get_json())"
   ]
  },
  {
   "cell_type": "code",
   "execution_count": 19,
   "id": "b3bdee4c",
   "metadata": {},
   "outputs": [],
   "source": [
    "# transform into dataframe\n",
    "results = content['resultSets'][0]\n",
    "headers = results['headers']\n",
    "rows = results['rowSet']\n",
    "df = pd.DataFrame(rows)\n",
    "df.columns = headers\n",
    "\n",
    "# write to csv file\n",
    "df.to_csv('2021-22.csv', index = False)\n"
   ]
  },
  {
   "cell_type": "code",
   "execution_count": null,
   "id": "4ca5892a",
   "metadata": {},
   "outputs": [],
   "source": [
    "\n",
    "\n"
   ]
  }
 ],
 "metadata": {
  "kernelspec": {
   "display_name": "Python 3 (ipykernel)",
   "language": "python",
   "name": "python3"
  },
  "language_info": {
   "codemirror_mode": {
    "name": "ipython",
    "version": 3
   },
   "file_extension": ".py",
   "mimetype": "text/x-python",
   "name": "python",
   "nbconvert_exporter": "python",
   "pygments_lexer": "ipython3",
   "version": "3.9.12"
  }
 },
 "nbformat": 4,
 "nbformat_minor": 5
}
